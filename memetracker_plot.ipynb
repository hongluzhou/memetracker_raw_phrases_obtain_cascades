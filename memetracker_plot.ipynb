{
 "cells": [
  {
   "cell_type": "code",
   "execution_count": 34,
   "metadata": {},
   "outputs": [
    {
     "data": {
      "text/plain": [
       "'\\nmemetracker data cleaner\\n\\nhttps://snap.stanford.edu/data/memetracker9.html\\n'"
      ]
     },
     "execution_count": 34,
     "metadata": {},
     "output_type": "execute_result"
    }
   ],
   "source": [
    "#!/usr/bin/env python3\n",
    "# -*- coding: utf-8 -*-\n",
    "\"\"\"\n",
    "Created on Thu Dec  5 00:10:24 2019\n",
    "\n",
    "@author: honglu\n",
    "\"\"\"\n",
    "\n",
    "import os\n",
    "import gzip\n",
    "import pickle\n",
    "import pandas as pd\n",
    "import datetime\n",
    "from datetime import datetime as dt\n",
    "import pdb\n",
    "import numpy as np\n",
    "import time\n",
    "from IPython.display import Audio, display\n",
    "import matplotlib.pyplot as plt\n",
    "%matplotlib inline  \n",
    "\n",
    "\"\"\"\n",
    "memetracker data cleaner\n",
    "https://snap.stanford.edu/data/other.html\n",
    "\n",
    "https://snap.stanford.edu/data/memetracker9.html\n",
    "\"\"\""
   ]
  },
  {
   "cell_type": "code",
   "execution_count": 82,
   "metadata": {},
   "outputs": [],
   "source": [
    "def create_config():\n",
    "    config = {\n",
    "                'rawfiles': ['./raw/memetracker/quotes_2008-08.txt.gz',\n",
    "                             './raw/memetracker/quotes_2008-09.txt.gz',\n",
    "                             './raw/memetracker/quotes_2008-10.txt.gz',\n",
    "                             './raw/memetracker/quotes_2008-11.txt.gz',\n",
    "                             './raw/memetracker/quotes_2008-12.txt.gz',\n",
    "                             './raw/memetracker/quotes_2009-01.txt.gz',\n",
    "                             './raw/memetracker/quotes_2009-02.txt.gz',\n",
    "                             './raw/memetracker/quotes_2009-03.txt.gz',\n",
    "                             './raw/memetracker/quotes_2009-04.txt.gz'\n",
    "                             ],\n",
    "                'output_path': './data/memetracker_dataset/',\n",
    "\n",
    "                'site_cutoff': [10000, 101700],\n",
    "                'meme_cutoff': 5000\n",
    "             }\n",
    "    return config\n",
    "\n",
    "\n",
    "config = create_config()\n",
    "if not os.path.exists(config['output_path']):\n",
    "    os.makedirs(config['output_path'])"
   ]
  },
  {
   "cell_type": "code",
   "execution_count": 40,
   "metadata": {},
   "outputs": [],
   "source": [
    "def code_finished(start_time=None):\n",
    "    \"\"\"\n",
    "    More alarm audio: https://onlineclock.net/sounds/\n",
    "    \"\"\"\n",
    "    display(Audio(url='https://onlineclock.net/audio/options/default.mp3', autoplay=True))\n",
    "    if start_time is not None:\n",
    "        if time.time() - start_time > 3600:\n",
    "            print(\"took {} h\".format(round((time.time() - start_time)/3600.0), 2))\n",
    "        elif time.time() - start_time > 60:\n",
    "            print(\"took {} m\".format(round((time.time() - start_time)/60.0), 2))\n",
    "        else:\n",
    "            print(\"took {} s\".format(round(time.time() - start_time), 2))"
   ]
  },
  {
   "cell_type": "code",
   "execution_count": 32,
   "metadata": {},
   "outputs": [],
   "source": [
    "def get_one_cascade_pandas(df, meme):\n",
    "    df_meme = pd.DataFrame(df.get_group(meme))\n",
    "    df_meme.sort_values(by=['time'], inplace=True, ascending=True)\n",
    "    df_meme.drop_duplicates('site')\n",
    "    return df_meme"
   ]
  },
  {
   "cell_type": "code",
   "execution_count": 35,
   "metadata": {},
   "outputs": [
    {
     "name": "stdout",
     "output_type": "stream",
     "text": [
      "['./raw/memetracker/quotes_2008-08.txt.gz', './raw/memetracker/quotes_2008-09.txt.gz', './raw/memetracker/quotes_2008-10.txt.gz', './raw/memetracker/quotes_2008-11.txt.gz', './raw/memetracker/quotes_2008-12.txt.gz', './raw/memetracker/quotes_2009-01.txt.gz', './raw/memetracker/quotes_2009-02.txt.gz', './raw/memetracker/quotes_2009-03.txt.gz', './raw/memetracker/quotes_2009-04.txt.gz']\n",
      "starting reading raw dataset\n",
      "1 9 49.85065698623657\n",
      "2 9 127.66932964324951\n",
      "3 9 192.78801226615906\n",
      "4 9 251.39570689201355\n",
      "5 9 312.8619713783264\n",
      "6 9 378.02483201026917\n",
      "7 9 469.05145049095154\n",
      "8 9 577.4515564441681\n",
      "9 9 717.3855712413788\n"
     ]
    },
    {
     "data": {
      "text/html": [
       "\n",
       "                <audio controls=\"controls\" autoplay=\"autoplay\">\n",
       "                    <source src=\"https://onlineclock.net/audio/options/default.mp3\" type=\"audio/mpeg\" />\n",
       "                    Your browser does not support the audio element.\n",
       "                </audio>\n",
       "              "
      ],
      "text/plain": [
       "<IPython.lib.display.Audio object>"
      ]
     },
     "metadata": {},
     "output_type": "display_data"
    }
   ],
   "source": [
    "\"\"\"\n",
    "Load raw dataset\n",
    "\"\"\"\n",
    "print(config['rawfiles'])\n",
    "\n",
    "print(\"starting reading raw dataset\")\n",
    "lines = []\n",
    "count = 0\n",
    "start_time = time.time()\n",
    "for file in config['rawfiles']:\n",
    "    with gzip.open(file, 'rt') as f:\n",
    "        for line in f:\n",
    "            lines.append(line)\n",
    "    count += 1\n",
    "    print(count, len(config['rawfiles']))\n",
    "    print(\"took {} min\".format(round((time.time() - start_time)/60), 2)\n",
    "code_finished()"
   ]
  },
  {
   "cell_type": "code",
   "execution_count": 38,
   "metadata": {},
   "outputs": [
    {
     "data": {
      "text/html": [
       "\n",
       "                <audio controls=\"controls\" autoplay=\"autoplay\">\n",
       "                    <source src=\"https://onlineclock.net/audio/options/default.mp3\" type=\"audio/mpeg\" />\n",
       "                    Your browser does not support the audio element.\n",
       "                </audio>\n",
       "              "
      ],
      "text/plain": [
       "<IPython.lib.display.Audio object>"
      ]
     },
     "metadata": {},
     "output_type": "display_data"
    },
    {
     "name": "stdout",
     "output_type": "stream",
     "text": [
      "took 0 h\n"
     ]
    }
   ],
   "source": [
    "\"\"\"\n",
    "Get site frequency and choose cut off\n",
    "\"\"\"\n",
    "start_time = time.time()\n",
    "site_frequency = dict()\n",
    "for line in lines:\n",
    "    if line == '\\n':\n",
    "        continue\n",
    "    [tag, content] = line.split('\\n')[0].split('\\t')\n",
    "    if tag == 'P':\n",
    "        site = content.split('http://')[1].split('/')[0]\n",
    "        try:\n",
    "            site_frequency[site] += 1\n",
    "        except KeyError:\n",
    "            site_frequency[site] = 1\n",
    "            "
   ]
  },
  {
   "cell_type": "code",
   "execution_count": 41,
   "metadata": {},
   "outputs": [
    {
     "data": {
      "text/html": [
       "\n",
       "                <audio controls=\"controls\" autoplay=\"autoplay\">\n",
       "                    <source src=\"https://onlineclock.net/audio/options/default.mp3\" type=\"audio/mpeg\" />\n",
       "                    Your browser does not support the audio element.\n",
       "                </audio>\n",
       "              "
      ],
      "text/plain": [
       "<IPython.lib.display.Audio object>"
      ]
     },
     "metadata": {},
     "output_type": "display_data"
    },
    {
     "name": "stdout",
     "output_type": "stream",
     "text": [
      "took 24 m\n"
     ]
    }
   ],
   "source": [
    "code_finished(start_time)"
   ]
  },
  {
   "cell_type": "code",
   "execution_count": 83,
   "metadata": {},
   "outputs": [
    {
     "name": "stdout",
     "output_type": "stream",
     "text": [
      "the number of sites:\n",
      "1298756\n",
      "top 10 sites frequency:\n",
      "[1749657, 941457, 877251, 859114, 822250, 773423, 736205, 729228, 675086, 665197]\n",
      "last 10 sites frequency:\n",
      "[1, 1, 1, 1, 1, 1, 1, 1, 1, 1]\n",
      "site frequency cut off:\n",
      "[10000, 101700]\n",
      "the number of sites with frequency greater than the smallest cut off:\n",
      "1069\n",
      "the number of sites with frequency greater than the largest cut off:\n",
      "69\n"
     ]
    }
   ],
   "source": [
    "sort_site_frequency = sorted(list(site_frequency.values()), reverse=True)\n",
    "print('the number of sites:')\n",
    "print(len(site_frequency))\n",
    "print('top 10 sites frequency:')\n",
    "print(sort_site_frequency[:10])\n",
    "print('last 10 sites frequency:')\n",
    "print(sort_site_frequency[-10:])\n",
    "print('site frequency cut off:')\n",
    "print(config['site_cutoff'])\n",
    "print('the number of sites with frequency greater than the smallest cut off:')\n",
    "print(len(np.where(np.array(sort_site_frequency) > config['site_cutoff'][0])[0]))\n",
    "print('the number of sites with frequency greater than the largest cut off:')\n",
    "print(len(np.where(np.array(sort_site_frequency) > config['site_cutoff'][1])[0]))"
   ]
  },
  {
   "cell_type": "code",
   "execution_count": 86,
   "metadata": {},
   "outputs": [
    {
     "data": {
      "image/png": "[encoded data removed]",
      "text/plain": [
       "<Figure size 432x288 with 1 Axes>"
      ]
     },
     "metadata": {
      "needs_background": "light"
     },
     "output_type": "display_data"
    }
   ],
   "source": [
    "plt.plot(sort_site_frequency, '-', marker='.', label='user frequency')\n",
    "plt.title('user frequency')\n",
    "plt.show()"
   ]
  },
  {
   "cell_type": "code",
   "execution_count": 84,
   "metadata": {},
   "outputs": [],
   "source": [
    "smallest_idx = len(np.where(np.array(sort_site_frequency) > config['site_cutoff'][1])[0])\n",
    "largest_idx = len(np.where(np.array(sort_site_frequency) > config['site_cutoff'][0])[0])"
   ]
  },
  {
   "cell_type": "code",
   "execution_count": 85,
   "metadata": {},
   "outputs": [
    {
     "data": {
      "image/png": "[encoded data removed]",
      "text/plain": [
       "<Figure size 432x288 with 1 Axes>"
      ]
     },
     "metadata": {
      "needs_background": "light"
     },
     "output_type": "display_data"
    }
   ],
   "source": [
    "plt.plot(sort_site_frequency[smallest_idx:largest_idx], '-', marker='.', label='user frequency')\n",
    "plt.title('user frequency')\n",
    "plt.show()"
   ]
  },
  {
   "cell_type": "code",
   "execution_count": 87,
   "metadata": {},
   "outputs": [
    {
     "name": "stdout",
     "output_type": "stream",
     "text": [
      "allsites len:\n",
      "1000\n"
     ]
    }
   ],
   "source": [
    "allsites = set()\n",
    "for site in site_frequency:\n",
    "    if (site_frequency[site] >= config['site_cutoff'][0]) and (site_frequency[site] <= config['site_cutoff'][1]):\n",
    "        allsites.add(site)\n",
    "print(\"allsites len:\")\n",
    "print(len(allsites))"
   ]
  }
 ],
 "metadata": {
  "kernelspec": {
   "display_name": "Python 3",
   "language": "python",
   "name": "python3"
  },
  "language_info": {
   "codemirror_mode": {
    "name": "ipython",
    "version": 3
   },
   "file_extension": ".py",
   "mimetype": "text/x-python",
   "name": "python",
   "nbconvert_exporter": "python",
   "pygments_lexer": "ipython3",
   "version": "3.7.3"
  }
 },
 "nbformat": 4,
 "nbformat_minor": 2
}
